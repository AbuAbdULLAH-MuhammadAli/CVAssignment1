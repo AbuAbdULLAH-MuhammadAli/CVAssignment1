{
  "nbformat": 4,
  "nbformat_minor": 5,
  "metadata": {
    "kernelspec": {
      "display_name": "Python 3",
      "language": "python",
      "name": "python3"
    },
    "language_info": {
      "codemirror_mode": {
        "name": "ipython",
        "version": 3
      },
      "file_extension": ".py",
      "mimetype": "text/x-python",
      "name": "python",
      "nbconvert_exporter": "python",
      "pygments_lexer": "ipython3",
      "version": "3.7.11"
    },
    "colab": {
      "name": "Task2BoVW(onlyObjectDataSet).ipynb",
      "provenance": [],
      "collapsed_sections": []
    }
  },
  "cells": [
    {
      "cell_type": "code",
      "metadata": {
        "colab": {
          "base_uri": "https://localhost:8080/"
        },
        "id": "obSAzJQ4NJ99",
        "outputId": "433c3a9c-d555-4e8a-e5a8-3d66550c95d4"
      },
      "source": [
        "! pip uninstall opencv-python -y\n",
        "! pip uninstall opencv-contrib-python -y"
      ],
      "id": "obSAzJQ4NJ99",
      "execution_count": 1,
      "outputs": [
        {
          "output_type": "stream",
          "name": "stdout",
          "text": [
            "Found existing installation: opencv-python 4.1.2.30\n",
            "Uninstalling opencv-python-4.1.2.30:\n",
            "  Successfully uninstalled opencv-python-4.1.2.30\n",
            "Found existing installation: opencv-contrib-python 4.1.2.30\n",
            "Uninstalling opencv-contrib-python-4.1.2.30:\n",
            "  Successfully uninstalled opencv-contrib-python-4.1.2.30\n"
          ]
        }
      ]
    },
    {
      "cell_type": "code",
      "metadata": {
        "colab": {
          "base_uri": "https://localhost:8080/"
        },
        "id": "HtGydMnF8Tja",
        "outputId": "17c5acb1-3de6-4e41-b70e-6f80d9424e12"
      },
      "source": [
        "! pip install opencv-python==3.4.11.45\n",
        "! pip install opencv-contrib-python==3.4.11.45"
      ],
      "id": "HtGydMnF8Tja",
      "execution_count": 2,
      "outputs": [
        {
          "output_type": "stream",
          "name": "stdout",
          "text": [
            "Collecting opencv-python==3.4.11.45\n",
            "  Downloading opencv_python-3.4.11.45-cp37-cp37m-manylinux2014_x86_64.whl (49.1 MB)\n",
            "\u001b[K     |████████████████████████████████| 49.1 MB 35 kB/s \n",
            "\u001b[?25hRequirement already satisfied: numpy>=1.14.5 in /usr/local/lib/python3.7/dist-packages (from opencv-python==3.4.11.45) (1.19.5)\n",
            "Installing collected packages: opencv-python\n",
            "\u001b[31mERROR: pip's dependency resolver does not currently take into account all the packages that are installed. This behaviour is the source of the following dependency conflicts.\n",
            "albumentations 0.1.12 requires imgaug<0.2.7,>=0.2.5, but you have imgaug 0.2.9 which is incompatible.\u001b[0m\n",
            "Successfully installed opencv-python-3.4.11.45\n",
            "Collecting opencv-contrib-python==3.4.11.45\n",
            "  Downloading opencv_contrib_python-3.4.11.45-cp37-cp37m-manylinux2014_x86_64.whl (54.7 MB)\n",
            "\u001b[K     |████████████████████████████████| 54.7 MB 48 kB/s \n",
            "\u001b[?25hRequirement already satisfied: numpy>=1.14.5 in /usr/local/lib/python3.7/dist-packages (from opencv-contrib-python==3.4.11.45) (1.19.5)\n",
            "Installing collected packages: opencv-contrib-python\n",
            "Successfully installed opencv-contrib-python-3.4.11.45\n"
          ]
        }
      ]
    },
    {
      "cell_type": "code",
      "metadata": {
        "scrolled": true,
        "colab": {
          "base_uri": "https://localhost:8080/"
        },
        "id": "la3RX5o9xxwB",
        "outputId": "b300896a-c10f-4992-86fc-50883044091a"
      },
      "source": [
        "from google.colab import drive\n",
        "drive.mount('/content/drive')"
      ],
      "id": "la3RX5o9xxwB",
      "execution_count": 3,
      "outputs": [
        {
          "output_type": "stream",
          "name": "stdout",
          "text": [
            "Mounted at /content/drive\n"
          ]
        }
      ]
    },
    {
      "cell_type": "code",
      "metadata": {
        "id": "3nIur5fp0zsM"
      },
      "source": [
        "path = 'drive/My Drive/ColabDatasets'"
      ],
      "id": "3nIur5fp0zsM",
      "execution_count": 4,
      "outputs": []
    },
    {
      "cell_type": "code",
      "metadata": {
        "id": "PJ_kfCsVxxwE"
      },
      "source": [
        "import argparse\n",
        "import cv2\n",
        "import numpy as np \n",
        "import os\n",
        "from sklearn.cluster import KMeans\n",
        "from sklearn.svm import SVC\n",
        "from sklearn.preprocessing import StandardScaler\n",
        "from matplotlib import pyplot as plt\n",
        "from sklearn import svm, datasets\n",
        "from sklearn.model_selection import train_test_split\n",
        "from sklearn.metrics import confusion_matrix\n",
        "from sklearn.utils.multiclass import unique_labels\n",
        "from sklearn.metrics.pairwise import chi2_kernel\n",
        "from sklearn.model_selection import GridSearchCV\n",
        "from sklearn.metrics import accuracy_score\n",
        "from tqdm import tqdm\n",
        "import time"
      ],
      "id": "PJ_kfCsVxxwE",
      "execution_count": 5,
      "outputs": []
    },
    {
      "cell_type": "code",
      "metadata": {
        "id": "H8a9G5ZHxxwG"
      },
      "source": [
        "def show(img):\n",
        "    io.imshow(img)\n",
        "    plt.show()"
      ],
      "id": "H8a9G5ZHxxwG",
      "execution_count": 6,
      "outputs": []
    },
    {
      "cell_type": "code",
      "metadata": {
        "id": "QhFTxnuYxxwL"
      },
      "source": [
        "def getFiles(train, path):\n",
        "    images = []\n",
        "    count = 0\n",
        "    for folder in os.listdir(path):\n",
        "        for file in  os.listdir(os.path.join(path, folder)):\n",
        "            images.append(os.path.join(path, os.path.join(folder, file)))\n",
        "\n",
        "    if(train is True):\n",
        "        np.random.shuffle(images)\n",
        "    \n",
        "    return images\n",
        "\n",
        "def getDescriptors(sift, img):\n",
        "    kp, des = sift.detectAndCompute(img, None)\n",
        "    return des\n",
        "\n",
        "def readImage(img_path):\n",
        "    img = cv2.imread(img_path, 0)\n",
        "    return cv2.resize(img,(150,150))\n",
        "\n",
        "def vstackDescriptors(descriptor_list):\n",
        "    descriptors = np.array(descriptor_list[0])\n",
        "    for descriptor in descriptor_list[1:]:\n",
        "        descriptors = np.vstack((descriptors, descriptor)) \n",
        "\n",
        "    return descriptors\n",
        "\n",
        "def clusterDescriptors(descriptors, no_clusters):\n",
        "    kmeans = KMeans(n_clusters = no_clusters).fit(descriptors)\n",
        "    return kmeans\n",
        "\n",
        "def extractFeatures(kmeans, descriptor_list, image_count, no_clusters):\n",
        "    im_features = np.array([np.zeros(no_clusters) for i in range(image_count)])\n",
        "    for i in range(image_count):\n",
        "        for j in range(len(descriptor_list[i])):\n",
        "            feature = descriptor_list[i][j]\n",
        "            feature = feature.reshape(1, 128)\n",
        "            idx = kmeans.predict(feature)\n",
        "            im_features[i][idx] += 1\n",
        "\n",
        "    return im_features\n",
        "\n",
        "def normalizeFeatures(scale, features):\n",
        "    return scale.transform(features)\n",
        "\n",
        "def plotHistogram(im_features, no_clusters):\n",
        "    x_scalar = np.arange(no_clusters)\n",
        "    y_scalar = np.array([abs(np.sum(im_features[:,h], dtype=np.int32)) for h in range(no_clusters)])\n",
        "\n",
        "    plt.bar(x_scalar, y_scalar)\n",
        "    plt.xlabel(\"Visual Word Index\")\n",
        "    plt.ylabel(\"Frequency\")\n",
        "    plt.title(\"Complete Vocabulary Generated\")\n",
        "    plt.xticks(x_scalar + 0.4, x_scalar)\n",
        "    plt.show()\n",
        "\n",
        "def svcParamSelection(X, y, kernel, nfolds):\n",
        "    Cs = [0.5, 0.1, 0.15, 0.2, 0.3]\n",
        "    gammas = [0.1, 0.11, 0.095, 0.105]\n",
        "    param_grid = {'C': Cs, 'gamma' : gammas}\n",
        "    grid_search = GridSearchCV(SVC(kernel=kernel), param_grid, cv=nfolds)\n",
        "    grid_search.fit(X, y)\n",
        "    grid_search.best_params_\n",
        "    return grid_search.best_params_\n",
        "\n",
        "def findSVM(im_features, train_labels, kernel):\n",
        "    features = im_features\n",
        "    if(kernel == \"precomputed\"):\n",
        "      features = np.dot(im_features, im_features.T)\n",
        "    \n",
        "    params = svcParamSelection(features, train_labels, kernel, 5)\n",
        "    C_param, gamma_param = params.get(\"C\"), params.get(\"gamma\")\n",
        "    print(C_param, gamma_param)\n",
        "    class_weight = {\n",
        "        0: (56 / (4 * 14)),\n",
        "        1: (56 / (4 * 14)),\n",
        "        2: (56 / (4 * 14)),\n",
        "        3: (56 / (4 * 14))\n",
        "    }\n",
        "  \n",
        "    svm = SVC(kernel = kernel, C =  C_param, gamma = gamma_param, class_weight = class_weight)\n",
        "    svm.fit(features, train_labels)\n",
        "    return svm\n",
        "\n",
        "def plotConfusionMatrix(y_true, y_pred, classes,\n",
        "                          normalize=False,\n",
        "                          title=None,\n",
        "                          cmap=plt.cm.Blues):\n",
        "    if not title:\n",
        "        if normalize:\n",
        "            title = 'Normalized confusion matrix'\n",
        "        else:\n",
        "            title = 'Confusion matrix, without normalization'\n",
        "\n",
        "    cm = confusion_matrix(y_true, y_pred)\n",
        "    if normalize:\n",
        "        cm = cm.astype('float') / cm.sum(axis=1)[:, np.newaxis]\n",
        "        print(\"Normalized confusion matrix\")\n",
        "    else:\n",
        "        print('Confusion matrix, without normalization')\n",
        "\n",
        "    print(cm)\n",
        "\n",
        "    fig, ax = plt.subplots()\n",
        "    im = ax.imshow(cm, interpolation='nearest', cmap=cmap)\n",
        "    ax.figure.colorbar(im, ax=ax)\n",
        "    ax.set(xticks=np.arange(cm.shape[1]),\n",
        "           yticks=np.arange(cm.shape[0]),\n",
        "           xticklabels=classes, yticklabels=classes,\n",
        "           title=title,\n",
        "           ylabel='True label',\n",
        "           xlabel='Predicted label')\n",
        "\n",
        "    plt.setp(ax.get_xticklabels(), rotation=45, ha=\"right\",\n",
        "             rotation_mode=\"anchor\")\n",
        "\n",
        "    fmt = '.2f' if normalize else 'd'\n",
        "    thresh = cm.max() / 2.\n",
        "    for i in range(cm.shape[0]):\n",
        "        for j in range(cm.shape[1]):\n",
        "            ax.text(j, i, format(cm[i, j], fmt),\n",
        "                    ha=\"center\", va=\"center\",\n",
        "                    color=\"white\" if cm[i, j] > thresh else \"black\")\n",
        "    fig.tight_layout()\n",
        "    return ax\n",
        "\n",
        "def plotConfusions(true, predictions):\n",
        "    np.set_printoptions(precision=2)\n",
        "\n",
        "    class_names = [\"accordion\", \"dollar_bill\", \"motorbike\", \"Soccer_Ball\"]\n",
        "    plotConfusionMatrix(true, predictions, classes=class_names,\n",
        "                      title='Confusion matrix, without normalization')\n",
        "\n",
        "    plotConfusionMatrix(true, predictions, classes=class_names, normalize=True,\n",
        "                      title='Normalized confusion matrix')\n",
        "\n",
        "    plt.show()\n",
        "\n",
        "def findAccuracy(true, predictions):\n",
        "    print ('accuracy score: %0.3f' % accuracy_score(true, predictions))"
      ],
      "id": "QhFTxnuYxxwL",
      "execution_count": 7,
      "outputs": []
    },
    {
      "cell_type": "markdown",
      "metadata": {
        "id": "by0evw-vxxwN"
      },
      "source": [
        "### Training and Data Prepration <a name=\"bovw_train\"></a>"
      ],
      "id": "by0evw-vxxwN"
    },
    {
      "cell_type": "code",
      "metadata": {
        "id": "2VqUJzpPxxwO"
      },
      "source": [
        "def trainModel(path, no_clusters, kernel):\n",
        "    images = getFiles(True, path)\n",
        "    print(\"Train images path detected.\")\n",
        "    sift = cv2.xfeatures2d.SIFT_create()\n",
        "    descriptor_list = []\n",
        "    train_labels = np.array([])\n",
        "    label_count = 7\n",
        "    image_count = len(images)\n",
        "\n",
        "    for img_path in images:\n",
        "        if(\"accordion\" in img_path):\n",
        "            class_index = 0\n",
        "        elif(\"dollar_bill\" in img_path):\n",
        "            class_index = 1\n",
        "        elif(\"motorbike\" in img_path):\n",
        "            class_index = 2\n",
        "        elif(\"Soccer_Ball\" in img_path):\n",
        "            class_index = 3\n",
        "        else:\n",
        "            class_index = 4\n",
        "\n",
        "        train_labels = np.append(train_labels, class_index)\n",
        "        img = readImage(img_path)\n",
        "        des = getDescriptors(sift, img)\n",
        "        descriptor_list.append(des)\n",
        "\n",
        "    descriptors = vstackDescriptors(descriptor_list)\n",
        "    print(\"Descriptors vstacked.\")\n",
        "\n",
        "    kmeans = clusterDescriptors(descriptors, no_clusters)\n",
        "    print(\"Descriptors clustered.\")\n",
        "\n",
        "    im_features = extractFeatures(kmeans, descriptor_list, image_count, no_clusters)\n",
        "    print(\"Images features extracted.\")\n",
        "\n",
        "    scale = StandardScaler().fit(im_features)        \n",
        "    im_features = scale.transform(im_features)\n",
        "    print(\"Train images normalized.\")\n",
        "\n",
        "    plotHistogram(im_features, no_clusters)\n",
        "    print(\"Features histogram plotted.\")\n",
        "\n",
        "    svm = findSVM(im_features, train_labels, kernel)\n",
        "    print(\"SVM fitted.\")\n",
        "    print(\"Training completed.\")\n",
        "\n",
        "    return kmeans, scale, svm, im_features"
      ],
      "id": "2VqUJzpPxxwO",
      "execution_count": 8,
      "outputs": []
    },
    {
      "cell_type": "code",
      "metadata": {
        "id": "OSUC1rK8xxwP",
        "colab": {
          "base_uri": "https://localhost:8080/",
          "height": 469
        },
        "outputId": "ecb80686-81f7-437f-af74-f1bb12fc7a06"
      },
      "source": [
        "train_path = path+'/A1/Objects_Dataset_Images/train'\n",
        "test_path = path+'/A1/Objects_Dataset_Images/test'\n",
        "no_clusters = 50\n",
        "kernel = \"precomputed\"\n",
        "\n",
        "start_time = time.time()\n",
        "kmeans, scale, svm, im_features = trainModel(train_path, no_clusters, kernel)\n",
        "print(\"--- %s seconds ---\" % (time.time() - start_time))\n"
      ],
      "id": "OSUC1rK8xxwP",
      "execution_count": 9,
      "outputs": [
        {
          "output_type": "stream",
          "name": "stdout",
          "text": [
            "Train images path detected.\n",
            "Descriptors vstacked.\n",
            "Descriptors clustered.\n",
            "Images features extracted.\n",
            "Train images normalized.\n"
          ]
        },
        {
          "output_type": "display_data",
          "data": {
            "image/png": "[encoded data removed]",
            "text/plain": [
              "<Figure size 432x288 with 1 Axes>"
            ]
          },
          "metadata": {
            "needs_background": "light"
          }
        },
        {
          "output_type": "stream",
          "name": "stdout",
          "text": [
            "Features histogram plotted.\n",
            "0.5 0.1\n",
            "SVM fitted.\n",
            "Training completed.\n",
            "--- 34.8966429233551 seconds ---\n"
          ]
        }
      ]
    },
    {
      "cell_type": "markdown",
      "metadata": {
        "id": "UizpVTgOxxwR"
      },
      "source": [
        "### Testing and Data Prepration <a name=\"bovw_test\"></a>"
      ],
      "id": "UizpVTgOxxwR"
    },
    {
      "cell_type": "code",
      "metadata": {
        "id": "AVUF63znxxwS"
      },
      "source": [
        "def testModel(path, kmeans, scale, svm, im_features, no_clusters, kernel):\n",
        "    test_images = getFiles(False, path)\n",
        "    print(\"Test images path detected.\")\n",
        "\n",
        "    count = 0\n",
        "    true = []\n",
        "    descriptor_list = []\n",
        "\n",
        "    name_dict =\t{\n",
        "        \"0\": \"accordion\",\n",
        "        \"1\": \"dollar_bill\",\n",
        "        \"2\": \"motorbike\",\n",
        "        \"3\": \"Soccer_Ball\",\n",
        "    }\n",
        "\n",
        "    sift = cv2.xfeatures2d.SIFT_create()\n",
        "\n",
        "    for img_path in test_images:\n",
        "        img = readImage(img_path)\n",
        "        des = getDescriptors(sift, img)\n",
        "\n",
        "        if(des is not None):\n",
        "            count += 1\n",
        "            descriptor_list.append(des)\n",
        "\n",
        "            if(\"accordion\" in img_path):\n",
        "                true.append(\"accordion\")\n",
        "            elif(\"dollar_bill\" in img_path):\n",
        "                true.append(\"dollar_bill\")\n",
        "            elif(\"motorbike\" in img_path):\n",
        "                true.append(\"motorbike\")\n",
        "            else:\n",
        "                true.append(\"Soccer_Ball\")\n",
        "            \n",
        "\n",
        "    descriptors = vstackDescriptors(descriptor_list)\n",
        "\n",
        "    test_features = extractFeatures(kmeans, descriptor_list, count, no_clusters)\n",
        "\n",
        "    test_features = scale.transform(test_features)\n",
        "    \n",
        "    kernel_test = test_features\n",
        "    if(kernel == \"precomputed\"):\n",
        "        kernel_test = np.dot(test_features, im_features.T)\n",
        "    \n",
        "    predictions = [name_dict[str(int(i))] for i in svm.predict(kernel_test)]\n",
        "    print(\"Test images classified.\")\n",
        "\n",
        "    plotConfusions(true, predictions)\n",
        "    print(\"Confusion matrixes plotted.\")\n",
        "\n",
        "    findAccuracy(true, predictions)\n",
        "    print(\"Accuracy calculated.\")\n",
        "    print(\"Execution done.\")"
      ],
      "id": "AVUF63znxxwS",
      "execution_count": 10,
      "outputs": []
    },
    {
      "cell_type": "code",
      "metadata": {
        "id": "yErbFRzaxxwS",
        "colab": {
          "base_uri": "https://localhost:8080/",
          "height": 889
        },
        "outputId": "f6a25cf0-c1d0-45cb-a137-51e1f42681c1"
      },
      "source": [
        "start_time = time.time()\n",
        "testModel(test_path, kmeans, scale, svm, im_features, no_clusters, kernel)\n",
        "print(\"--- %s seconds ---\" % (time.time() - start_time))"
      ],
      "id": "yErbFRzaxxwS",
      "execution_count": 11,
      "outputs": [
        {
          "output_type": "stream",
          "name": "stdout",
          "text": [
            "Test images path detected.\n",
            "Test images classified.\n",
            "Confusion matrix, without normalization\n",
            "[[2 2 0 0]\n",
            " [0 0 0 0]\n",
            " [0 0 2 0]\n",
            " [0 0 1 1]]\n",
            "Normalized confusion matrix\n",
            "[[0.5 0.5 0.  0. ]\n",
            " [nan nan nan nan]\n",
            " [0.  0.  1.  0. ]\n",
            " [0.  0.  0.5 0.5]]\n"
          ]
        },
        {
          "output_type": "stream",
          "name": "stderr",
          "text": [
            "/usr/local/lib/python3.7/dist-packages/ipykernel_launcher.py:97: RuntimeWarning: invalid value encountered in true_divide\n"
          ]
        },
        {
          "output_type": "display_data",
          "data": {
            "image/png": "[encoded data removed]",
            "text/plain": [
              "<Figure size 432x288 with 2 Axes>"
            ]
          },
          "metadata": {
            "needs_background": "light"
          }
        },
        {
          "output_type": "display_data",
          "data": {
            "image/png": "[encoded data removed]",
            "text/plain": [
              "<Figure size 432x288 with 2 Axes>"
            ]
          },
          "metadata": {
            "needs_background": "light"
          }
        },
        {
          "output_type": "stream",
          "name": "stdout",
          "text": [
            "Confusion matrixes plotted.\n",
            "accuracy score: 0.625\n",
            "Accuracy calculated.\n",
            "Execution done.\n",
            "--- 4.227566242218018 seconds ---\n"
          ]
        }
      ]
    },
    {
      "cell_type": "code",
      "metadata": {
        "id": "mGShxGAhrSld"
      },
      "source": [
        "def PrintSometest(path, ture ,kmeans, scale, svm, im_features, no_clusters, kernel):\n",
        "    \n",
        "    print(\"Test images path detected.\")\n",
        "\n",
        "    count = 0\n",
        "   \n",
        "    descriptor_list = []\n",
        "\n",
        "    name_dict =\t{\n",
        "        \"0\": \"accordion\",\n",
        "        \"1\": \"dollar_bill\",\n",
        "        \"2\": \"motorbike\",\n",
        "        \"3\": \"Soccer_Ball\",\n",
        "    }\n",
        "\n",
        "    sift = cv2.xfeatures2d.SIFT_create()\n",
        "    images = []\n",
        "    for img_path in path:\n",
        "        images.append(readImage(img_path))\n",
        "    for img in images:\n",
        "        des = getDescriptors(sift, img)\n",
        "        if(des is not None):\n",
        "            count += 1\n",
        "            descriptor_list.append(des)\n",
        "            \n",
        "\n",
        "    descriptors = vstackDescriptors(descriptor_list)\n",
        "\n",
        "    test_features = extractFeatures(kmeans, descriptor_list, count, no_clusters)\n",
        "\n",
        "    test_features = scale.transform(test_features)\n",
        "    \n",
        "    kernel_test = test_features\n",
        "    if(kernel == \"precomputed\"):\n",
        "        kernel_test = np.dot(test_features, im_features.T)\n",
        "    \n",
        "    predictions = [name_dict[str(int(i))] for i in svm.predict(kernel_test)]\n",
        "    plt.figure()\n",
        "\n",
        "    #subplot(r,c) provide the no. of rows and columns\n",
        "    f, axarr = plt.subplots(4,1) \n",
        "\n",
        "    for i in range(4):\n",
        "      axarr[i].imshow(images[i])\n",
        "      axarr[i].set_title(predictions[i])"
      ],
      "id": "mGShxGAhrSld",
      "execution_count": 23,
      "outputs": []
    },
    {
      "cell_type": "code",
      "metadata": {
        "colab": {
          "base_uri": "https://localhost:8080/",
          "height": 316
        },
        "id": "n87GeQMlow6d",
        "outputId": "c6d7a756-2691-45f6-f2ea-5d20e46e46a6"
      },
      "source": [
        "ImgPathTest = []\n",
        "ImgPathTest.append(test_path+'/accordian/image_0023.jpg')\n",
        "ImgPathTest.append(test_path+'/dollar_bill/image_0040.jpg')\n",
        "ImgPathTest.append(test_path+'/motorbike/image_0030.jpg')\n",
        "ImgPathTest.append(test_path+'/Soccer_Ball/image_0046.jpg')\n",
        "ImgValue = []\n",
        "ImgValue.append('accordian')\n",
        "ImgValue.append('dollar_bill')\n",
        "ImgValue.append('motorbike')\n",
        "ImgValue.append('Soccer_Ball')\n",
        "PrintSometest(ImgPathTest,ImgValue,kmeans, scale, svm, im_features, no_clusters, kernel)\n"
      ],
      "id": "n87GeQMlow6d",
      "execution_count": 24,
      "outputs": [
        {
          "output_type": "stream",
          "name": "stdout",
          "text": [
            "Test images path detected.\n"
          ]
        },
        {
          "output_type": "display_data",
          "data": {
            "text/plain": [
              "<Figure size 432x288 with 0 Axes>"
            ]
          },
          "metadata": {}
        },
        {
          "output_type": "display_data",
          "data": {
            "image/png": "[encoded data removed]",
            "text/plain": [
              "<Figure size 432x288 with 4 Axes>"
            ]
          },
          "metadata": {
            "needs_background": "light"
          }
        }
      ]
    }
  ]
}